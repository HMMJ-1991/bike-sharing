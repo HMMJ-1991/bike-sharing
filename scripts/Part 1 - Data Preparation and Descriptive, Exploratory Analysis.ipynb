{
 "cells": [
  {
   "cell_type": "markdown",
   "metadata": {},
   "source": [
    "### <font color=\"red\">Data Preparation, Descriptive, Exploratory Analysis </font>"
   ]
  },
  {
   "cell_type": "markdown",
   "metadata": {},
   "source": [
    " <font color=\"red\"> Imports </font>"
   ]
  },
  {
   "cell_type": "code",
   "execution_count": 55,
   "metadata": {},
   "outputs": [],
   "source": [
    "import pandas as pd\n",
    "import glob\n",
    "import warnings\n",
    "import numpy as np\n",
    "import matplotlib.pyplot as plt\n",
    "\n",
    "from datetime import timedelta\n",
    "from collections import Counter\n",
    "from nltk.probability import FreqDist\n",
    "import seaborn as sns\n",
    "\n",
    "warnings.filterwarnings(\"ignore\")"
   ]
  },
  {
   "cell_type": "markdown",
   "metadata": {},
   "source": [
    " <font color=\"red\"> Data Preparation </font>"
   ]
  },
  {
   "cell_type": "code",
   "execution_count": 29,
   "metadata": {},
   "outputs": [
    {
     "name": "stdout",
     "output_type": "stream",
     "text": [
      "Number of files: 26\n"
     ]
    }
   ],
   "source": [
    "#data downloaded from https://s3.amazonaws.com/capitalbikeshare-data/index.html\n",
    "#List of files that we want to merge\n",
    "all_files = glob.glob(\"../dc/*tripdata.csv\")\n",
    "\n",
    "print('Number of files: ' + str(len(all_files)))\n",
    "#read all files\n",
    "list_of_dataframe = []\n",
    "\n",
    "for filename in all_files:\n",
    "    df = pd.read_csv(filename, index_col=None, header=0)\n",
    "    list_of_dataframe.append(df)\n",
    "    \n",
    "#Make sure all the dataframe have the same columns\n",
    "# for i in range(len(list_of_dataframe)):\n",
    "#    print(list_of_dataframe[i].columns)"
   ]
  },
  {
   "cell_type": "code",
   "execution_count": 32,
   "metadata": {},
   "outputs": [
    {
     "data": {
      "text/html": [
       "<div>\n",
       "<style scoped>\n",
       "    .dataframe tbody tr th:only-of-type {\n",
       "        vertical-align: middle;\n",
       "    }\n",
       "\n",
       "    .dataframe tbody tr th {\n",
       "        vertical-align: top;\n",
       "    }\n",
       "\n",
       "    .dataframe thead th {\n",
       "        text-align: right;\n",
       "    }\n",
       "</style>\n",
       "<table border=\"1\" class=\"dataframe\">\n",
       "  <thead>\n",
       "    <tr style=\"text-align: right;\">\n",
       "      <th></th>\n",
       "      <th>Duration</th>\n",
       "      <th>Start date</th>\n",
       "      <th>End date</th>\n",
       "      <th>Start station number</th>\n",
       "      <th>Start station</th>\n",
       "      <th>End station number</th>\n",
       "      <th>End station</th>\n",
       "      <th>Bike number</th>\n",
       "      <th>Member type</th>\n",
       "    </tr>\n",
       "  </thead>\n",
       "  <tbody>\n",
       "    <tr>\n",
       "      <td>0</td>\n",
       "      <td>552</td>\n",
       "      <td>2018-01-01 00:05:06</td>\n",
       "      <td>2018-01-01 00:14:18</td>\n",
       "      <td>31104</td>\n",
       "      <td>Adams Mill &amp; Columbia Rd NW</td>\n",
       "      <td>31400</td>\n",
       "      <td>Georgia &amp; New Hampshire Ave NW</td>\n",
       "      <td>W00886</td>\n",
       "      <td>Member</td>\n",
       "    </tr>\n",
       "    <tr>\n",
       "      <td>1</td>\n",
       "      <td>1282</td>\n",
       "      <td>2018-01-01 00:14:30</td>\n",
       "      <td>2018-01-01 00:35:53</td>\n",
       "      <td>31321</td>\n",
       "      <td>15th St &amp; Constitution Ave NW</td>\n",
       "      <td>31321</td>\n",
       "      <td>15th St &amp; Constitution Ave NW</td>\n",
       "      <td>W01435</td>\n",
       "      <td>Casual</td>\n",
       "    </tr>\n",
       "    <tr>\n",
       "      <td>2</td>\n",
       "      <td>1265</td>\n",
       "      <td>2018-01-01 00:14:53</td>\n",
       "      <td>2018-01-01 00:35:58</td>\n",
       "      <td>31321</td>\n",
       "      <td>15th St &amp; Constitution Ave NW</td>\n",
       "      <td>31321</td>\n",
       "      <td>15th St &amp; Constitution Ave NW</td>\n",
       "      <td>W21242</td>\n",
       "      <td>Casual</td>\n",
       "    </tr>\n",
       "    <tr>\n",
       "      <td>3</td>\n",
       "      <td>578</td>\n",
       "      <td>2018-01-01 00:15:31</td>\n",
       "      <td>2018-01-01 00:25:09</td>\n",
       "      <td>31406</td>\n",
       "      <td>14th &amp; Upshur St NW</td>\n",
       "      <td>31103</td>\n",
       "      <td>16th &amp; Harvard St NW</td>\n",
       "      <td>W21322</td>\n",
       "      <td>Casual</td>\n",
       "    </tr>\n",
       "    <tr>\n",
       "      <td>4</td>\n",
       "      <td>372</td>\n",
       "      <td>2018-01-01 00:18:02</td>\n",
       "      <td>2018-01-01 00:24:15</td>\n",
       "      <td>31618</td>\n",
       "      <td>4th &amp; East Capitol St NE</td>\n",
       "      <td>31619</td>\n",
       "      <td>Lincoln Park / 13th &amp; East Capitol St NE</td>\n",
       "      <td>W00119</td>\n",
       "      <td>Member</td>\n",
       "    </tr>\n",
       "  </tbody>\n",
       "</table>\n",
       "</div>"
      ],
      "text/plain": [
       "   Duration          Start date             End date  Start station number  \\\n",
       "0       552 2018-01-01 00:05:06  2018-01-01 00:14:18                 31104   \n",
       "1      1282 2018-01-01 00:14:30  2018-01-01 00:35:53                 31321   \n",
       "2      1265 2018-01-01 00:14:53  2018-01-01 00:35:58                 31321   \n",
       "3       578 2018-01-01 00:15:31  2018-01-01 00:25:09                 31406   \n",
       "4       372 2018-01-01 00:18:02  2018-01-01 00:24:15                 31618   \n",
       "\n",
       "                   Start station  End station number  \\\n",
       "0    Adams Mill & Columbia Rd NW               31400   \n",
       "1  15th St & Constitution Ave NW               31321   \n",
       "2  15th St & Constitution Ave NW               31321   \n",
       "3            14th & Upshur St NW               31103   \n",
       "4       4th & East Capitol St NE               31619   \n",
       "\n",
       "                                 End station Bike number Member type  \n",
       "0             Georgia & New Hampshire Ave NW      W00886      Member  \n",
       "1              15th St & Constitution Ave NW      W01435      Casual  \n",
       "2              15th St & Constitution Ave NW      W21242      Casual  \n",
       "3                       16th & Harvard St NW      W21322      Casual  \n",
       "4  Lincoln Park / 13th & East Capitol St NE       W00119      Member  "
      ]
     },
     "execution_count": 32,
     "metadata": {},
     "output_type": "execute_result"
    }
   ],
   "source": [
    "#Merge all the files\n",
    "merged_data = pd.concat(list_of_dataframe, axis=0, ignore_index=True)\n",
    "#Cast the \"Start date' to datetime data type\n",
    "merged_data[\"Start date\"]=pd.to_datetime(merged_data[\"Start date\"])\n",
    "#Sort the data based on \"Start date\"\n",
    "merged_data=merged_data.sort_values(\"Start date\")\n",
    "merged_data.head()"
   ]
  },
  {
   "cell_type": "code",
   "execution_count": 33,
   "metadata": {},
   "outputs": [],
   "source": [
    "#Select only the important attributes\n",
    "merged_data=merged_data[['Duration','Start date','End date','Start station number','Member type']]\n",
    "#Write the data to csv file\n",
    "merged_data.to_csv('../dc/merged_data.csv',index=False)"
   ]
  },
  {
   "cell_type": "markdown",
   "metadata": {},
   "source": [
    "<font color=\"red\"> Descriptive Analysis, EDA </font>\n"
   ]
  },
  {
   "cell_type": "code",
   "execution_count": 38,
   "metadata": {},
   "outputs": [
    {
     "name": "stdout",
     "output_type": "stream",
     "text": [
      "(7315971, 5)\n",
      "Unique stations: 583\n"
     ]
    },
    {
     "data": {
      "text/html": [
       "<div>\n",
       "<style scoped>\n",
       "    .dataframe tbody tr th:only-of-type {\n",
       "        vertical-align: middle;\n",
       "    }\n",
       "\n",
       "    .dataframe tbody tr th {\n",
       "        vertical-align: top;\n",
       "    }\n",
       "\n",
       "    .dataframe thead th {\n",
       "        text-align: right;\n",
       "    }\n",
       "</style>\n",
       "<table border=\"1\" class=\"dataframe\">\n",
       "  <thead>\n",
       "    <tr style=\"text-align: right;\">\n",
       "      <th></th>\n",
       "      <th>Start station number</th>\n",
       "      <th>Member type</th>\n",
       "      <th>count_by_membership</th>\n",
       "    </tr>\n",
       "  </thead>\n",
       "  <tbody>\n",
       "    <tr>\n",
       "      <td>0</td>\n",
       "      <td>0</td>\n",
       "      <td>Casual</td>\n",
       "      <td>34</td>\n",
       "    </tr>\n",
       "    <tr>\n",
       "      <td>1</td>\n",
       "      <td>0</td>\n",
       "      <td>Member</td>\n",
       "      <td>742</td>\n",
       "    </tr>\n",
       "    <tr>\n",
       "      <td>2</td>\n",
       "      <td>31000</td>\n",
       "      <td>Casual</td>\n",
       "      <td>1199</td>\n",
       "    </tr>\n",
       "    <tr>\n",
       "      <td>3</td>\n",
       "      <td>31000</td>\n",
       "      <td>Member</td>\n",
       "      <td>2951</td>\n",
       "    </tr>\n",
       "    <tr>\n",
       "      <td>4</td>\n",
       "      <td>31001</td>\n",
       "      <td>Casual</td>\n",
       "      <td>860</td>\n",
       "    </tr>\n",
       "  </tbody>\n",
       "</table>\n",
       "</div>"
      ],
      "text/plain": [
       "   Start station number Member type  count_by_membership\n",
       "0                     0      Casual                   34\n",
       "1                     0      Member                  742\n",
       "2                 31000      Casual                 1199\n",
       "3                 31000      Member                 2951\n",
       "4                 31001      Casual                  860"
      ]
     },
     "execution_count": 38,
     "metadata": {},
     "output_type": "execute_result"
    }
   ],
   "source": [
    "data =pd.read_csv('../dc/merged_data.csv')\n",
    "print(data.shape)\n",
    "print('Unique stations: '+str(data['Start station number'].nunique()))\n",
    "count=pd.DataFrame(data['Start station number'].value_counts().nlargest(10))\n",
    "count=count.reset_index()\n",
    "count.columns\n",
    "count.columns=['Start station number','Total_trip']\n",
    "count_type=pd.DataFrame(data.groupby(['Start station number','Member type'])['Start station number'].count().rename('count_by_membership'))\n",
    "count_type=count_type.reset_index()\n",
    "count_type.head()"
   ]
  },
  {
   "cell_type": "code",
   "execution_count": 57,
   "metadata": {},
   "outputs": [
    {
     "data": {
      "image/png": "[encoded data removed]",
      "text/plain": [
       "<Figure size 432x288 with 1 Axes>"
      ]
     },
     "metadata": {},
     "output_type": "display_data"
    }
   ],
   "source": [
    "#Casual Member ratio\n",
    "# plot and save with seaborn\n",
    "sns.set_style(\"dark\")\n",
    "countplot = sns.countplot(x=\"Member type\", data=data);\n",
    "\n",
    "fig = countplot.get_figure()\n",
    "fig.savefig('../figures/compare_member_type_full_data.png')"
   ]
  },
  {
   "cell_type": "code",
   "execution_count": 42,
   "metadata": {},
   "outputs": [
    {
     "data": {
      "image/png": "[encoded data removed]",
      "text/plain": [
       "<Figure size 720x360 with 1 Axes>"
      ]
     },
     "metadata": {
      "needs_background": "light"
     },
     "output_type": "display_data"
    }
   ],
   "source": [
    "#Total member, casual, registered members per first 10 prominent stations\n",
    "barWidth = 0.25\n",
    "cleaned_data=count\n",
    "casual=count_type[count_type['Member type']=='Casual']\n",
    "member=count_type[count_type['Member type']=='Member']\n",
    "\n",
    "d=count.merge(casual, on='Start station number', how='inner', indicator=True)\n",
    "d=d[['Start station number','Total_trip','count_by_membership']]\n",
    "d=d.merge(member, on='Start station number', how='inner', indicator=True)\n",
    "d=d[['Start station number', 'Total_trip', 'count_by_membership_x','count_by_membership_y']]\n",
    "\n",
    "pos = list(range(len(d))) \n",
    "width = 0.25 \n",
    "labels=d['Start station number']\n",
    "fig, ax = plt.subplots(figsize=(10,5))\n",
    "plt.bar(pos, \n",
    "        d['Total_trip'], \n",
    "        width, \n",
    "        alpha=0.5, \n",
    "        color='red', \n",
    "        label='Total') \n",
    "\n",
    "plt.bar([p + width*2 for p in pos], \n",
    "        d['count_by_membership_x'], \n",
    "        width, \n",
    "        alpha=0.5, \n",
    "        color='blue',\n",
    "        label='Calusl')\n",
    "\n",
    "plt.bar([p + width for p in pos], \n",
    "        d['count_by_membership_y'],\n",
    "        width, \n",
    "        alpha=0.5, \n",
    "        color='orange',\n",
    "        label=\"Member\")\n",
    "\n",
    "plt.xticks(range(len(labels)), labels)\n",
    "plt.legend()\n",
    "plt.xlabel('Station number')\n",
    "plt.ylabel(\"Number of users\")\n",
    "plt.show()"
   ]
  },
  {
   "cell_type": "code",
   "execution_count": 43,
   "metadata": {},
   "outputs": [
    {
     "data": {
      "image/png": "[encoded data removed]",
      "text/plain": [
       "<Figure size 720x576 with 1 Axes>"
      ]
     },
     "metadata": {
      "needs_background": "light"
     },
     "output_type": "display_data"
    },
    {
     "data": {
      "text/plain": [
       "<Figure size 432x288 with 0 Axes>"
      ]
     },
     "metadata": {},
     "output_type": "display_data"
    }
   ],
   "source": [
    "#Registered, casual members comparision\n",
    "data1 = d['count_by_membership_x']\n",
    "data2 = d['count_by_membership_y']\n",
    "fig, ax = plt.subplots(figsize=(10,8))\n",
    "plt.xticks(rotation=45)\n",
    "plt.bar(range(len(data2)), data2,label=\"Member\")\n",
    "plt.bar(range(len(data1)), data1, bottom=data2,label=\"Casual\")\n",
    "plt.legend()\n",
    "plt.xticks(range(len(labels)), labels)\n",
    "plt.xlabel('Station number')\n",
    "plt.ylabel(\"Number of users\")\n",
    "plt.show()\n",
    "plt.savefig('output.png')"
   ]
  },
  {
   "cell_type": "markdown",
   "metadata": {},
   "source": [
    "### <font color=\"red\">Select only the prominant station </font>\n"
   ]
  },
  {
   "cell_type": "code",
   "execution_count": 53,
   "metadata": {},
   "outputs": [
    {
     "name": "stdout",
     "output_type": "stream",
     "text": [
      "(4614, 2)\n",
      "(13842, 2)\n"
     ]
    },
    {
     "data": {
      "text/html": [
       "<div>\n",
       "<style scoped>\n",
       "    .dataframe tbody tr th:only-of-type {\n",
       "        vertical-align: middle;\n",
       "    }\n",
       "\n",
       "    .dataframe tbody tr th {\n",
       "        vertical-align: top;\n",
       "    }\n",
       "\n",
       "    .dataframe thead th {\n",
       "        text-align: right;\n",
       "    }\n",
       "</style>\n",
       "<table border=\"1\" class=\"dataframe\">\n",
       "  <thead>\n",
       "    <tr style=\"text-align: right;\">\n",
       "      <th></th>\n",
       "      <th></th>\n",
       "      <th>number of users</th>\n",
       "    </tr>\n",
       "    <tr>\n",
       "      <th>date</th>\n",
       "      <th>Member type</th>\n",
       "      <th></th>\n",
       "    </tr>\n",
       "  </thead>\n",
       "  <tbody>\n",
       "    <tr>\n",
       "      <td rowspan=\"2\" valign=\"top\">2018-01-01</td>\n",
       "      <td>Casual</td>\n",
       "      <td>2</td>\n",
       "    </tr>\n",
       "    <tr>\n",
       "      <td>Member</td>\n",
       "      <td>19</td>\n",
       "    </tr>\n",
       "    <tr>\n",
       "      <td rowspan=\"2\" valign=\"top\">2018-01-02</td>\n",
       "      <td>Casual</td>\n",
       "      <td>1</td>\n",
       "    </tr>\n",
       "    <tr>\n",
       "      <td>Member</td>\n",
       "      <td>125</td>\n",
       "    </tr>\n",
       "    <tr>\n",
       "      <td>2018-01-03</td>\n",
       "      <td>Casual</td>\n",
       "      <td>6</td>\n",
       "    </tr>\n",
       "  </tbody>\n",
       "</table>\n",
       "</div>"
      ],
      "text/plain": [
       "                        number of users\n",
       "date       Member type                 \n",
       "2018-01-01 Casual                     2\n",
       "           Member                    19\n",
       "2018-01-02 Casual                     1\n",
       "           Member                   125\n",
       "2018-01-03 Casual                     6"
      ]
     },
     "execution_count": 53,
     "metadata": {},
     "output_type": "execute_result"
    }
   ],
   "source": [
    "data_station_31623=data[data['Start station number']==31623] ##this is the data that we are going to use for EDA\n",
    "data_station_31623=data_station_31623[[\"Start date\",\"Member type\"]]\n",
    "\n",
    "data_station_31623[\"Start date\"]=pd.to_datetime(data_station_31623[\"Start date\"],format='%Y-%m-%d %H:%M:%S')\n",
    "data_station_31623['hour of day']=data_station_31623[\"Start date\"].dt.hour\n",
    "data_station_31623['day of the month']=data_station_31623[\"Start date\"].dt.day\n",
    "\n",
    "data_station_31623['date']=data_station_31623[\"Start date\"].dt.date\n",
    "count=pd.DataFrame(data_station_31623.groupby(['date','hour of day','Member type'])\\\n",
    "                   ['hour of day'].count().rename('number of users'))\n",
    "\n",
    "\n",
    "count=count.reset_index()\n",
    "\n",
    "casual_hourly=count[count['Member type']==\"Casual\"][['date','hour of day','number of users']]\n",
    "member_hourly=count[count['Member type']==\"Member\"][['date','hour of day','number of users']]\n",
    "\n",
    "member_hourly=member_hourly.reset_index().drop('index',axis=1)\n",
    "\n",
    "member_hourly['date_time']=None\n",
    "for i in range(len(member_hourly)):\n",
    "    member_hourly['date_time'][i]=timedelta(hours=int(member_hourly['hour of day'].iloc[i]))+pd.to_datetime(member_hourly['date'].iloc[i])\n",
    "    \n",
    "member_hourly=member_hourly[['date_time',\"number of users\"]]\n",
    "\n",
    "casual_hourly=casual_hourly.reset_index().drop('index',axis=1)\n",
    "\n",
    "casual_hourly.index\n",
    "\n",
    "casual_hourly['date_time']=None\n",
    "for i in range(len(casual_hourly)):\n",
    "    casual_hourly['date_time'][i]=timedelta(hours=int(casual_hourly['hour of day'].iloc[i]))+pd.to_datetime(casual_hourly['date'].iloc[i])\n",
    "    \n",
    "casual_hourly=casual_hourly[['date_time','number of users']]\n",
    "\n",
    "print(casual_hourly.shape)\n",
    "casual_hourly.to_csv('../dc/casual_hourly.csv',index=False)\n",
    "\n",
    "print(member_hourly.shape)\n",
    "member_hourly.to_csv('../dc/member_hourly.csv',index=False)\n",
    "\n",
    "count_by_date=pd.DataFrame(data_station_31623.groupby(['date','Member type'])['hour of day'].count().rename('number of users'))\n",
    "count_by_date.head()\n",
    "\n",
    "count_by_date=count_by_date.reset_index()\n",
    "\n",
    "casual_daily=count_by_date[count_by_date['Member type']==\"Casual\"][['date','number of users']]\n",
    "member_daily=count_by_date[count_by_date['Member type']==\"Member\"][['date','number of users']]\n",
    "\n",
    "casual_daily.to_csv('../dc/casual_daily.csv',index=False)\n",
    "member_daily.to_csv('../dc/member_daily.csv',index=False)"
   ]
  },
  {
   "cell_type": "code",
   "execution_count": 68,
   "metadata": {},
   "outputs": [
    {
     "name": "stdout",
     "output_type": "stream",
     "text": [
      "(datetime.date(2018, 1, 1), datetime.date(2018, 1, 15), datetime.date(2018, 2, 19), datetime.date(2018, 5, 28), datetime.date(2018, 7, 4), datetime.date(2018, 9, 3), datetime.date(2018, 10, 8), datetime.date(2018, 11, 11), datetime.date(2018, 11, 12), datetime.date(2018, 11, 22), datetime.date(2018, 12, 25), datetime.date(2019, 1, 1), datetime.date(2019, 1, 21), datetime.date(2019, 2, 18), datetime.date(2019, 5, 27), datetime.date(2019, 7, 4), datetime.date(2019, 9, 2), datetime.date(2019, 10, 14), datetime.date(2019, 11, 11), datetime.date(2019, 11, 28), datetime.date(2019, 12, 25), datetime.date(2020, 1, 1), datetime.date(2020, 1, 20), datetime.date(2020, 2, 17), datetime.date(2020, 5, 25), datetime.date(2020, 7, 4), datetime.date(2020, 7, 3), datetime.date(2020, 9, 7), datetime.date(2020, 10, 12), datetime.date(2020, 11, 11), datetime.date(2020, 11, 26), datetime.date(2020, 12, 25))\n",
      "0    127914\n",
      "1      1600\n",
      "Name: is holiday, dtype: int64\n"
     ]
    }
   ],
   "source": [
    "#Check with holiday, type of week day\n",
    "\n",
    "#Note that in Python Monday is 0 unlike Javascript style where Sunday is 0\n",
    "sel_station =data[data['Start station number']==31623] ##this is the data that we are going to use for EDA\n",
    "sel_station[\"Start date\"]=pd.to_datetime(data[\"Start date\"],format='%Y-%m-%d %H:%M:%S')\n",
    "\n",
    "sel_station['day of week']=sel_station[\"Start date\"].dt.weekday\n",
    "\n",
    "#install with pip install holidays\n",
    "import holidays\n",
    "\n",
    "holiday_dates_list=[]\n",
    "#Print all the holidays in US in year 2018, 2019\n",
    "for ptr in holidays.US(years = 2018).items():\n",
    "    holiday_dates_list.append(ptr[0])\n",
    "for ptr in holidays.US(years = 2019).items():\n",
    "    holiday_dates_list.append(ptr[0]) \n",
    "for ptr in holidays.US(years = 2020).items():\n",
    "    holiday_dates_list.append(ptr[0]) \n",
    "us_holidays=tuple(holiday_dates_list)\n",
    "print(us_holidays)\n",
    "\n",
    "\n",
    "sel_station['is holiday'] = sel_station['Start date'].apply(lambda x: 1 if x in us_holidays else 0)\n",
    "\n",
    "print(sel_station['is holiday'].value_counts()) # 127914 1600 ;  2018 jan to 2020 feb\n",
    "\n"
   ]
  },
  {
   "cell_type": "code",
   "execution_count": 81,
   "metadata": {},
   "outputs": [
    {
     "name": "stdout",
     "output_type": "stream",
     "text": [
      "(9984, 9)\n",
      "(119530, 9)\n",
      "(1285, 9)\n",
      "(553, 9)\n",
      "Anomaly ratio: \n",
      "Registered Member - 0.004626453609972392\n",
      "Casual Member - 0.1287059294871795\n",
      "Casual Member anomaly duration is 27.98 times more than Registered member\n"
     ]
    },
    {
     "data": {
      "image/png": "[encoded data removed]",
      "text/plain": [
       "<Figure size 432x288 with 1 Axes>"
      ]
     },
     "metadata": {},
     "output_type": "display_data"
    }
   ],
   "source": [
    "#Duration related analysis\n",
    "sel_station['date']=sel_station[\"Start date\"].dt.date\n",
    "\n",
    "#consider duration more than 3600 an anomaly (normally rides are < 1800 secs)\n",
    "max_dur=3600\n",
    "\n",
    "sel_station['duration noise'] = sel_station['Duration'].apply(lambda x: 1 if int(x)>max_dur else 0)\n",
    "casual_=sel_station[sel_station['Member type']=='Casual'];\n",
    "member_=sel_station[sel_station['Member type']=='Member'];\n",
    "\n",
    "print(casual_.shape)\n",
    "print(member_.shape)\n",
    "print(casual_[casual_['Duration']>max_dur].shape)\n",
    "print(member_[member_['Duration']>max_dur].shape)\n",
    "\n",
    "print('Anomaly ratio: \\nRegistered Member - '+str(member_[member_['Duration']>max_dur].shape[0]/member_.shape[0])\n",
    "     +'\\nCasual Member - '+str(casual_[casual_['Duration']>max_dur].shape[0]/casual_.shape[0]))\n",
    "\n",
    "print('Casual Member anomaly duration is '+ str(round(round(casual_[casual_['Duration']>max_dur].shape[0]/casual_.shape[0], 4)/ round(member_[member_['Duration']>max_dur].shape[0]/member_.shape[0], 4), 2)) +' times more than Registered member')\n",
    "# plot and save with seaborn\n",
    "sns.set_style(\"dark\")\n",
    "countplot_all = sns.countplot(x=\"duration noise\", data=sel_station);\n",
    "fig_all = countplot_all.get_figure()\n",
    "fig_all.savefig('../figures/durations_segregation.png')\n",
    "\n",
    "\n"
   ]
  },
  {
   "cell_type": "code",
   "execution_count": 82,
   "metadata": {},
   "outputs": [
    {
     "name": "stdout",
     "output_type": "stream",
     "text": [
      "605.6236332594718\n",
      "776.3984624145786\n",
      "782.8472023402004\n",
      "703.7115135834412\n"
     ]
    },
    {
     "data": {
      "image/png": "[encoded data removed]",
      "text/plain": [
       "<Figure size 432x288 with 1 Axes>"
      ]
     },
     "metadata": {},
     "output_type": "display_data"
    }
   ],
   "source": [
    "#Explore working days (weekdays excluding holidays) and non-working days (the negation) and duration\n",
    "sel_station.head()\n",
    "\n",
    "workingday=sel_station[(sel_station['day of week'] <5) & (sel_station['is holiday']==0) & (sel_station['duration noise']==0)]\n",
    "#(104939, 9)\n",
    "print(workingday['Duration'].mean()) #sum: 63426804 604.4159368776146\n",
    "\n",
    "nonworkingday=sel_station[((sel_station['day of week'] >=5) | (sel_station['is holiday']==1) ) & (sel_station['duration noise']==0)]\n",
    "print(nonworkingday['Duration'].mean()) #1063.3015772870663\n",
    "\n",
    "weekends=sel_station[(sel_station['day of week'] >=5) & (sel_station['duration noise']==0)]\n",
    "print(weekends['Duration'].mean()) #1063.3015772870663\n",
    "\n",
    "holidays=sel_station[(sel_station['is holiday']==1) & (sel_station['duration noise']==0)]\n",
    "print(holidays['Duration'].mean()) #1063.3015772870663\n",
    "\n",
    "top=[('Working days',workingday['Duration'].mean()),('Non Working days',nonworkingday['Duration'].mean()),('Weekends',weekends['Duration'].mean())]\n",
    "\n",
    "labels, ys = zip(*top)\n",
    "xs = np.arange(len(labels)) \n",
    "width = 1\n",
    "\n",
    "plt.bar(xs, ys, width, align='center')\n",
    "\n",
    "plt.xticks(xs, labels) #Replace default x-ticks with xs, then replace xs with labels\n",
    "plt.yticks(ys)\n",
    "\n",
    "plt.savefig('../figures/type_of_day_duration_3600_sec.png')\n"
   ]
  },
  {
   "cell_type": "code",
   "execution_count": 86,
   "metadata": {},
   "outputs": [
    {
     "name": "stdout",
     "output_type": "stream",
     "text": [
      "\n",
      "\n",
      "688.060650501597\n",
      "1084.946812564647\n",
      "1101.2254056945849\n",
      "935.7575\n"
     ]
    },
    {
     "data": {
      "image/png": "[encoded data removed]",
      "text/plain": [
       "<Figure size 432x288 with 1 Axes>"
      ]
     },
     "metadata": {},
     "output_type": "display_data"
    }
   ],
   "source": [
    "workingday_all=sel_station[(sel_station['day of week'] <5) & (sel_station['is holiday']==0)]\n",
    "nonworkingday_all=sel_station[(sel_station['day of week'] >=5) | (sel_station['is holiday']==1)]\n",
    "weekends_all=sel_station[(sel_station['day of week'] >=5)]\n",
    "holidays_all=sel_station[(sel_station['is holiday']==1)]\n",
    "print('\\n')\n",
    "print(workingday_all['Duration'].mean()) #1063.3015772870663\n",
    "print(nonworkingday_all['Duration'].mean()) #1063.3015772870663\n",
    "print(weekends_all['Duration'].mean()) #1063.3015772870663\n",
    "print(holidays_all['Duration'].mean()) #1063.3015772870663\n",
    "\n",
    "top=[('Working days',workingday_all['Duration'].mean()),('Non Working days',nonworkingday_all['Duration'].mean()),('Weekends',weekends_all['Duration'].mean())]\n",
    "\n",
    "labels, ys = zip(*top)\n",
    "xs = np.arange(len(labels)) \n",
    "width = 1\n",
    "\n",
    "plt.bar(xs, ys, width, align='center')\n",
    "\n",
    "plt.xticks(xs, labels) #Replace default x-ticks with xs, then replace xs with labels\n",
    "plt.yticks(ys)\n",
    "\n",
    "plt.savefig('../figures/type_of_day_duration_all.png')"
   ]
  },
  {
   "cell_type": "code",
   "execution_count": 87,
   "metadata": {},
   "outputs": [
    {
     "data": {
      "image/png": "[encoded data removed]",
      "text/plain": [
       "<Figure size 432x288 with 1 Axes>"
      ]
     },
     "metadata": {},
     "output_type": "display_data"
    }
   ],
   "source": [
    "countplot_casual= sns.countplot(x=\"duration noise\", data=casual_);\n",
    "fig_casual = countplot_casual.get_figure()\n",
    "fig_casual.savefig('../figures/durations_segregation_casual.png')\n",
    "\n"
   ]
  },
  {
   "cell_type": "code",
   "execution_count": 88,
   "metadata": {},
   "outputs": [
    {
     "data": {
      "image/png": "[encoded data removed]",
      "text/plain": [
       "<Figure size 432x288 with 1 Axes>"
      ]
     },
     "metadata": {},
     "output_type": "display_data"
    }
   ],
   "source": [
    "countplot_mem = sns.countplot(x=\"duration noise\", data=member_);\n",
    "fig_mem= countplot_mem.get_figure()\n",
    "fig_mem.savefig('../figures/durations_segregation_member.png')\n"
   ]
  },
  {
   "cell_type": "code",
   "execution_count": 90,
   "metadata": {},
   "outputs": [
    {
     "data": {
      "image/png": "[encoded data removed]",
      "text/plain": [
       "<Figure size 403.2x288 with 2 Axes>"
      ]
     },
     "metadata": {},
     "output_type": "display_data"
    }
   ],
   "source": [
    "g = sns.catplot(x=\"duration noise\", col=\"Member type\",\n",
    "                data=sel_station, kind=\"count\",\n",
    "                height=4, aspect=.7);\n",
    "\n",
    "g.savefig('../figures/cat_durations_segregation.png')"
   ]
  }
 ],
 "metadata": {
  "kernelspec": {
   "display_name": "Python 3",
   "language": "python",
   "name": "python3"
  },
  "language_info": {
   "codemirror_mode": {
    "name": "ipython",
    "version": 3
   },
   "file_extension": ".py",
   "mimetype": "text/x-python",
   "name": "python",
   "nbconvert_exporter": "python",
   "pygments_lexer": "ipython3",
   "version": "3.7.4"
  }
 },
 "nbformat": 4,
 "nbformat_minor": 4
}
