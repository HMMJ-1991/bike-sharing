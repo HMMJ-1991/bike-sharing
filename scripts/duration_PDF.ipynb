{
 "cells": [
  {
   "cell_type": "code",
   "execution_count": 1,
   "metadata": {},
   "outputs": [
    {
     "name": "stdout",
     "output_type": "stream",
     "text": [
      "Plot Probabilty Distribution of Duration\n"
     ]
    }
   ],
   "source": [
    "print(\"Plot Probabilty Distribution of Duration\")"
   ]
  },
  {
   "cell_type": "code",
   "execution_count": 6,
   "metadata": {},
   "outputs": [],
   "source": [
    "import numpy as np\n",
    "import pandas as pd\n",
    "import matplotlib.pyplot as plt\n",
    "from scipy.stats import norm\n",
    "# if using a Jupyter notebook, inlcude:\n",
    "%matplotlib inline\n"
   ]
  },
  {
   "cell_type": "code",
   "execution_count": 14,
   "metadata": {},
   "outputs": [],
   "source": [
    "df = pd.read_csv ('data/201912-capitalbikeshare-tripdata.csv') \n"
   ]
  },
  {
   "cell_type": "code",
   "execution_count": 17,
   "metadata": {},
   "outputs": [
    {
     "name": "stdout",
     "output_type": "stream",
     "text": [
      "masx:  86051\n",
      "min:  60\n",
      "count:  161878\n",
      "median:  570.0\n",
      "827.4959166779921\n",
      "std:  1738.6830502752932\n",
      "var:  3023018.749314598\n"
     ]
    }
   ],
   "source": [
    "max = df['Duration'].max()\n",
    "print(\"max: \", max)\n",
    "min = df['Duration'].min()\n",
    "print(\"min: \", min)\n",
    "count = df['Duration'].count()\n",
    "print(\"count: \", count)\n",
    "median = df['Duration'].median() \n",
    "print(\"median: \", median)\n",
    "mean = df['Duration'].mean()\n",
    "print(mean)\n",
    "std = df['Duration'].std() \n",
    "print(\"std: \", std)\n",
    "var = df['Duration'].var() \n",
    "print(\"var: \", var)\n",
    "\n"
   ]
  },
  {
   "cell_type": "code",
   "execution_count": 42,
   "metadata": {},
   "outputs": [
    {
     "data": {
      "text/plain": [
       "(30, 9000)"
      ]
     },
     "execution_count": 42,
     "metadata": {},
     "output_type": "execute_result"
    },
    {
     "data": {
      "image/png": "[encoded data removed]",
      "text/plain": [
       "<Figure size 432x288 with 1 Axes>"
      ]
     },
     "metadata": {
      "needs_background": "light"
     },
     "output_type": "display_data"
    }
   ],
   "source": [
    "series = pd.Series(df['Duration'])\n",
    "ax.set_xlabel(\"durations in Sec (practically between 30-9000)\")\n",
    "ax.set_ylabel(\"duratoin PDF\")\n",
    "ax = series.plot.kde(bw_method=1)\n",
    "ax.set_xlim(30, 9000)\n"
   ]
  },
  {
   "cell_type": "code",
   "execution_count": null,
   "metadata": {},
   "outputs": [],
   "source": []
  }
 ],
 "metadata": {
  "kernelspec": {
   "display_name": "Python 3",
   "language": "python",
   "name": "python3"
  },
  "language_info": {
   "codemirror_mode": {
    "name": "ipython",
    "version": 3
   },
   "file_extension": ".py",
   "mimetype": "text/x-python",
   "name": "python",
   "nbconvert_exporter": "python",
   "pygments_lexer": "ipython3",
   "version": "3.7.4"
  }
 },
 "nbformat": 4,
 "nbformat_minor": 2
}
