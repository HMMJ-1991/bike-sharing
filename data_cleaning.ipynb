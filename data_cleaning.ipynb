{
 "cells": [
  {
   "cell_type": "markdown",
   "metadata": {},
   "source": [
    "### <font color=\"red\">Import packages </font>"
   ]
  },
  {
   "cell_type": "code",
   "execution_count": 1,
   "metadata": {},
   "outputs": [],
   "source": [
    "import pandas as pd\n",
    "import glob\n",
    "import warnings\n",
    "warnings.filterwarnings(\"ignore\")"
   ]
  },
  {
   "cell_type": "markdown",
   "metadata": {},
   "source": [
    "### <font color=\"red\"> List of files that we want to merge</font>"
   ]
  },
  {
   "cell_type": "code",
   "execution_count": 2,
   "metadata": {},
   "outputs": [],
   "source": [
    "all_files = glob.glob(\"data/bike_sharing_data/*tripdata.csv\")"
   ]
  },
  {
   "cell_type": "markdown",
   "metadata": {},
   "source": [
    "### <font color=\"red\"> Read all the files</font>"
   ]
  },
  {
   "cell_type": "code",
   "execution_count": 3,
   "metadata": {},
   "outputs": [],
   "source": [
    "list_of_dataframe = []\n",
    "\n",
    "for filename in all_files:\n",
    "    df = pd.read_csv(filename, index_col=None, header=0)\n",
    "    list_of_dataframe.append(df)"
   ]
  },
  {
   "cell_type": "markdown",
   "metadata": {},
   "source": [
    "### <font color=\"red\"> Make sure all the dataframe have the same columns</font>"
   ]
  },
  {
   "cell_type": "code",
   "execution_count": 4,
   "metadata": {},
   "outputs": [
    {
     "name": "stdout",
     "output_type": "stream",
     "text": [
      "Index(['Duration', 'Start date', 'End date', 'Start station number',\n",
      "       'Start station', 'End station number', 'End station', 'Bike number',\n",
      "       'Member type'],\n",
      "      dtype='object')\n",
      "Index(['Duration', 'Start date', 'End date', 'Start station number',\n",
      "       'Start station', 'End station number', 'End station', 'Bike number',\n",
      "       'Member type'],\n",
      "      dtype='object')\n",
      "Index(['Duration', 'Start date', 'End date', 'Start station number',\n",
      "       'Start station', 'End station number', 'End station', 'Bike number',\n",
      "       'Member type'],\n",
      "      dtype='object')\n",
      "Index(['Duration', 'Start date', 'End date', 'Start station number',\n",
      "       'Start station', 'End station number', 'End station', 'Bike number',\n",
      "       'Member type'],\n",
      "      dtype='object')\n",
      "Index(['Duration', 'Start date', 'End date', 'Start station number',\n",
      "       'Start station', 'End station number', 'End station', 'Bike number',\n",
      "       'Member type'],\n",
      "      dtype='object')\n",
      "Index(['Duration', 'Start date', 'End date', 'Start station number',\n",
      "       'Start station', 'End station number', 'End station', 'Bike number',\n",
      "       'Member type'],\n",
      "      dtype='object')\n",
      "Index(['Duration', 'Start date', 'End date', 'Start station number',\n",
      "       'Start station', 'End station number', 'End station', 'Bike number',\n",
      "       'Member type'],\n",
      "      dtype='object')\n",
      "Index(['Duration', 'Start date', 'End date', 'Start station number',\n",
      "       'Start station', 'End station number', 'End station', 'Bike number',\n",
      "       'Member type'],\n",
      "      dtype='object')\n",
      "Index(['Duration', 'Start date', 'End date', 'Start station number',\n",
      "       'Start station', 'End station number', 'End station', 'Bike number',\n",
      "       'Member type'],\n",
      "      dtype='object')\n",
      "Index(['Duration', 'Start date', 'End date', 'Start station number',\n",
      "       'Start station', 'End station number', 'End station', 'Bike number',\n",
      "       'Member type'],\n",
      "      dtype='object')\n",
      "Index(['Duration', 'Start date', 'End date', 'Start station number',\n",
      "       'Start station', 'End station number', 'End station', 'Bike number',\n",
      "       'Member type'],\n",
      "      dtype='object')\n",
      "Index(['Duration', 'Start date', 'End date', 'Start station number',\n",
      "       'Start station', 'End station number', 'End station', 'Bike number',\n",
      "       'Member type'],\n",
      "      dtype='object')\n",
      "Index(['Duration', 'Start date', 'End date', 'Start station number',\n",
      "       'Start station', 'End station number', 'End station', 'Bike number',\n",
      "       'Member type'],\n",
      "      dtype='object')\n",
      "Index(['Duration', 'Start date', 'End date', 'Start station number',\n",
      "       'Start station', 'End station number', 'End station', 'Bike number',\n",
      "       'Member type'],\n",
      "      dtype='object')\n",
      "Index(['Duration', 'Start date', 'End date', 'Start station number',\n",
      "       'Start station', 'End station number', 'End station', 'Bike number',\n",
      "       'Member type'],\n",
      "      dtype='object')\n",
      "Index(['Duration', 'Start date', 'End date', 'Start station number',\n",
      "       'Start station', 'End station number', 'End station', 'Bike number',\n",
      "       'Member type'],\n",
      "      dtype='object')\n",
      "Index(['Duration', 'Start date', 'End date', 'Start station number',\n",
      "       'Start station', 'End station number', 'End station', 'Bike number',\n",
      "       'Member type'],\n",
      "      dtype='object')\n",
      "Index(['Duration', 'Start date', 'End date', 'Start station number',\n",
      "       'Start station', 'End station number', 'End station', 'Bike number',\n",
      "       'Member type'],\n",
      "      dtype='object')\n",
      "Index(['Duration', 'Start date', 'End date', 'Start station number',\n",
      "       'Start station', 'End station number', 'End station', 'Bike number',\n",
      "       'Member type'],\n",
      "      dtype='object')\n",
      "Index(['Duration', 'Start date', 'End date', 'Start station number',\n",
      "       'Start station', 'End station number', 'End station', 'Bike number',\n",
      "       'Member type'],\n",
      "      dtype='object')\n",
      "Index(['Duration', 'Start date', 'End date', 'Start station number',\n",
      "       'Start station', 'End station number', 'End station', 'Bike number',\n",
      "       'Member type'],\n",
      "      dtype='object')\n",
      "Index(['Duration', 'Start date', 'End date', 'Start station number',\n",
      "       'Start station', 'End station number', 'End station', 'Bike number',\n",
      "       'Member type'],\n",
      "      dtype='object')\n",
      "Index(['Duration', 'Start date', 'End date', 'Start station number',\n",
      "       'Start station', 'End station number', 'End station', 'Bike number',\n",
      "       'Member type'],\n",
      "      dtype='object')\n",
      "Index(['Duration', 'Start date', 'End date', 'Start station number',\n",
      "       'Start station', 'End station number', 'End station', 'Bike number',\n",
      "       'Member type'],\n",
      "      dtype='object')\n",
      "Index(['Duration', 'Start date', 'End date', 'Start station number',\n",
      "       'Start station', 'End station number', 'End station', 'Bike number',\n",
      "       'Member type'],\n",
      "      dtype='object')\n"
     ]
    }
   ],
   "source": [
    "for i in range(len(list_of_dataframe)):\n",
    "    print(list_of_dataframe[i].columns)"
   ]
  },
  {
   "cell_type": "markdown",
   "metadata": {},
   "source": [
    "### <font color=\"red\"> Merge all the files</font>"
   ]
  },
  {
   "cell_type": "code",
   "execution_count": 5,
   "metadata": {},
   "outputs": [],
   "source": [
    "merged_data = pd.concat(list_of_dataframe, axis=0, ignore_index=True)"
   ]
  },
  {
   "cell_type": "markdown",
   "metadata": {},
   "source": [
    "### <font color=\"red\"> Cast the \"Start date' to datetime data type</font>"
   ]
  },
  {
   "cell_type": "code",
   "execution_count": 6,
   "metadata": {},
   "outputs": [],
   "source": [
    "merged_data[\"Start date\"]=pd.to_datetime(merged_data[\"Start date\"])"
   ]
  },
  {
   "cell_type": "markdown",
   "metadata": {},
   "source": [
    "### <font color=\"red\"> Sort the data based on \"Start date\"</font>"
   ]
  },
  {
   "cell_type": "code",
   "execution_count": 7,
   "metadata": {},
   "outputs": [],
   "source": [
    "merged_data=merged_data.sort_values(\"Start date\")"
   ]
  },
  {
   "cell_type": "code",
   "execution_count": 8,
   "metadata": {},
   "outputs": [
    {
     "data": {
      "text/html": [
       "<div>\n",
       "<style scoped>\n",
       "    .dataframe tbody tr th:only-of-type {\n",
       "        vertical-align: middle;\n",
       "    }\n",
       "\n",
       "    .dataframe tbody tr th {\n",
       "        vertical-align: top;\n",
       "    }\n",
       "\n",
       "    .dataframe thead th {\n",
       "        text-align: right;\n",
       "    }\n",
       "</style>\n",
       "<table border=\"1\" class=\"dataframe\">\n",
       "  <thead>\n",
       "    <tr style=\"text-align: right;\">\n",
       "      <th></th>\n",
       "      <th>Duration</th>\n",
       "      <th>Start date</th>\n",
       "      <th>End date</th>\n",
       "      <th>Start station number</th>\n",
       "      <th>Start station</th>\n",
       "      <th>End station number</th>\n",
       "      <th>End station</th>\n",
       "      <th>Bike number</th>\n",
       "      <th>Member type</th>\n",
       "    </tr>\n",
       "  </thead>\n",
       "  <tbody>\n",
       "    <tr>\n",
       "      <th>1257109</th>\n",
       "      <td>892</td>\n",
       "      <td>2018-02-01 00:01:29</td>\n",
       "      <td>2018-02-01 00:16:21</td>\n",
       "      <td>31312</td>\n",
       "      <td>Wisconsin Ave &amp; O St NW</td>\n",
       "      <td>31267</td>\n",
       "      <td>17th St &amp; Massachusetts Ave NW</td>\n",
       "      <td>W21967</td>\n",
       "      <td>Member</td>\n",
       "    </tr>\n",
       "    <tr>\n",
       "      <th>1257110</th>\n",
       "      <td>501</td>\n",
       "      <td>2018-02-01 00:04:19</td>\n",
       "      <td>2018-02-01 00:12:40</td>\n",
       "      <td>31089</td>\n",
       "      <td>Court House Metro / 15th &amp; N Uhle St</td>\n",
       "      <td>31079</td>\n",
       "      <td>Lee Hwy &amp; N Cleveland St</td>\n",
       "      <td>W00938</td>\n",
       "      <td>Member</td>\n",
       "    </tr>\n",
       "    <tr>\n",
       "      <th>1257111</th>\n",
       "      <td>788</td>\n",
       "      <td>2018-02-01 00:05:03</td>\n",
       "      <td>2018-02-01 00:18:12</td>\n",
       "      <td>32048</td>\n",
       "      <td>Bethesda Metro</td>\n",
       "      <td>31315</td>\n",
       "      <td>McKinley St &amp; Connecticut Ave NW</td>\n",
       "      <td>W00792</td>\n",
       "      <td>Member</td>\n",
       "    </tr>\n",
       "    <tr>\n",
       "      <th>1257112</th>\n",
       "      <td>406</td>\n",
       "      <td>2018-02-01 00:18:11</td>\n",
       "      <td>2018-02-01 00:24:57</td>\n",
       "      <td>31224</td>\n",
       "      <td>19th &amp; L St NW</td>\n",
       "      <td>31214</td>\n",
       "      <td>17th &amp; Corcoran St NW</td>\n",
       "      <td>W21087</td>\n",
       "      <td>Member</td>\n",
       "    </tr>\n",
       "    <tr>\n",
       "      <th>1257113</th>\n",
       "      <td>161</td>\n",
       "      <td>2018-02-01 00:18:11</td>\n",
       "      <td>2018-02-01 00:20:53</td>\n",
       "      <td>31126</td>\n",
       "      <td>11th &amp; Girard St NW</td>\n",
       "      <td>31115</td>\n",
       "      <td>Columbia Rd &amp; Georgia Ave NW</td>\n",
       "      <td>W01068</td>\n",
       "      <td>Member</td>\n",
       "    </tr>\n",
       "  </tbody>\n",
       "</table>\n",
       "</div>"
      ],
      "text/plain": [
       "         Duration          Start date             End date  \\\n",
       "1257109       892 2018-02-01 00:01:29  2018-02-01 00:16:21   \n",
       "1257110       501 2018-02-01 00:04:19  2018-02-01 00:12:40   \n",
       "1257111       788 2018-02-01 00:05:03  2018-02-01 00:18:12   \n",
       "1257112       406 2018-02-01 00:18:11  2018-02-01 00:24:57   \n",
       "1257113       161 2018-02-01 00:18:11  2018-02-01 00:20:53   \n",
       "\n",
       "         Start station number                          Start station  \\\n",
       "1257109                 31312                Wisconsin Ave & O St NW   \n",
       "1257110                 31089  Court House Metro / 15th & N Uhle St    \n",
       "1257111                 32048                         Bethesda Metro   \n",
       "1257112                 31224                         19th & L St NW   \n",
       "1257113                 31126                    11th & Girard St NW   \n",
       "\n",
       "         End station number                       End station Bike number  \\\n",
       "1257109               31267    17th St & Massachusetts Ave NW      W21967   \n",
       "1257110               31079          Lee Hwy & N Cleveland St      W00938   \n",
       "1257111               31315  McKinley St & Connecticut Ave NW      W00792   \n",
       "1257112               31214             17th & Corcoran St NW      W21087   \n",
       "1257113               31115      Columbia Rd & Georgia Ave NW      W01068   \n",
       "\n",
       "        Member type  \n",
       "1257109      Member  \n",
       "1257110      Member  \n",
       "1257111      Member  \n",
       "1257112      Member  \n",
       "1257113      Member  "
      ]
     },
     "execution_count": 8,
     "metadata": {},
     "output_type": "execute_result"
    }
   ],
   "source": [
    "merged_data.head()"
   ]
  },
  {
   "cell_type": "code",
   "execution_count": 9,
   "metadata": {},
   "outputs": [
    {
     "data": {
      "text/html": [
       "<div>\n",
       "<style scoped>\n",
       "    .dataframe tbody tr th:only-of-type {\n",
       "        vertical-align: middle;\n",
       "    }\n",
       "\n",
       "    .dataframe tbody tr th {\n",
       "        vertical-align: top;\n",
       "    }\n",
       "\n",
       "    .dataframe thead th {\n",
       "        text-align: right;\n",
       "    }\n",
       "</style>\n",
       "<table border=\"1\" class=\"dataframe\">\n",
       "  <thead>\n",
       "    <tr style=\"text-align: right;\">\n",
       "      <th></th>\n",
       "      <th>Duration</th>\n",
       "      <th>Start date</th>\n",
       "      <th>End date</th>\n",
       "      <th>Start station number</th>\n",
       "      <th>Start station</th>\n",
       "      <th>End station number</th>\n",
       "      <th>End station</th>\n",
       "      <th>Bike number</th>\n",
       "      <th>Member type</th>\n",
       "    </tr>\n",
       "  </thead>\n",
       "  <tbody>\n",
       "    <tr>\n",
       "      <th>2940797</th>\n",
       "      <td>139</td>\n",
       "      <td>2020-02-29 23:56:58</td>\n",
       "      <td>2020-02-29 23:59:17</td>\n",
       "      <td>31917</td>\n",
       "      <td>N Lynn St &amp; Fairfax Dr</td>\n",
       "      <td>31014</td>\n",
       "      <td>Lynn St &amp; 19th St North</td>\n",
       "      <td>W20054</td>\n",
       "      <td>Member</td>\n",
       "    </tr>\n",
       "    <tr>\n",
       "      <th>2940798</th>\n",
       "      <td>388</td>\n",
       "      <td>2020-02-29 23:57:00</td>\n",
       "      <td>2020-03-01 00:03:29</td>\n",
       "      <td>31236</td>\n",
       "      <td>37th &amp; O St NW / Georgetown University</td>\n",
       "      <td>31246</td>\n",
       "      <td>M St &amp; Pennsylvania Ave NW</td>\n",
       "      <td>W00422</td>\n",
       "      <td>Member</td>\n",
       "    </tr>\n",
       "    <tr>\n",
       "      <th>2940799</th>\n",
       "      <td>373</td>\n",
       "      <td>2020-02-29 23:58:42</td>\n",
       "      <td>2020-03-01 00:04:56</td>\n",
       "      <td>31283</td>\n",
       "      <td>14th &amp; L St NW</td>\n",
       "      <td>31299</td>\n",
       "      <td>Connecticut Ave &amp; R St NW</td>\n",
       "      <td>W20970</td>\n",
       "      <td>Member</td>\n",
       "    </tr>\n",
       "    <tr>\n",
       "      <th>2940800</th>\n",
       "      <td>597</td>\n",
       "      <td>2020-02-29 23:58:58</td>\n",
       "      <td>2020-03-01 00:08:55</td>\n",
       "      <td>31214</td>\n",
       "      <td>17th &amp; Corcoran St NW</td>\n",
       "      <td>31503</td>\n",
       "      <td>Florida Ave &amp; R St NW</td>\n",
       "      <td>W00419</td>\n",
       "      <td>Member</td>\n",
       "    </tr>\n",
       "    <tr>\n",
       "      <th>2940801</th>\n",
       "      <td>983</td>\n",
       "      <td>2020-02-29 23:59:19</td>\n",
       "      <td>2020-03-01 00:15:43</td>\n",
       "      <td>31125</td>\n",
       "      <td>15th &amp; W St NW</td>\n",
       "      <td>31207</td>\n",
       "      <td>Georgia Ave and Fairmont St NW</td>\n",
       "      <td>W21388</td>\n",
       "      <td>Casual</td>\n",
       "    </tr>\n",
       "  </tbody>\n",
       "</table>\n",
       "</div>"
      ],
      "text/plain": [
       "         Duration          Start date             End date  \\\n",
       "2940797       139 2020-02-29 23:56:58  2020-02-29 23:59:17   \n",
       "2940798       388 2020-02-29 23:57:00  2020-03-01 00:03:29   \n",
       "2940799       373 2020-02-29 23:58:42  2020-03-01 00:04:56   \n",
       "2940800       597 2020-02-29 23:58:58  2020-03-01 00:08:55   \n",
       "2940801       983 2020-02-29 23:59:19  2020-03-01 00:15:43   \n",
       "\n",
       "         Start station number                           Start station  \\\n",
       "2940797                 31917                  N Lynn St & Fairfax Dr   \n",
       "2940798                 31236  37th & O St NW / Georgetown University   \n",
       "2940799                 31283                          14th & L St NW   \n",
       "2940800                 31214                   17th & Corcoran St NW   \n",
       "2940801                 31125                          15th & W St NW   \n",
       "\n",
       "         End station number                     End station Bike number  \\\n",
       "2940797               31014         Lynn St & 19th St North      W20054   \n",
       "2940798               31246      M St & Pennsylvania Ave NW      W00422   \n",
       "2940799               31299       Connecticut Ave & R St NW      W20970   \n",
       "2940800               31503           Florida Ave & R St NW      W00419   \n",
       "2940801               31207  Georgia Ave and Fairmont St NW      W21388   \n",
       "\n",
       "        Member type  \n",
       "2940797      Member  \n",
       "2940798      Member  \n",
       "2940799      Member  \n",
       "2940800      Member  \n",
       "2940801      Casual  "
      ]
     },
     "execution_count": 9,
     "metadata": {},
     "output_type": "execute_result"
    }
   ],
   "source": [
    "merged_data.tail()"
   ]
  },
  {
   "cell_type": "markdown",
   "metadata": {},
   "source": [
    "### <font color=\"red\"> Select only the important attributes</font>"
   ]
  },
  {
   "cell_type": "code",
   "execution_count": 10,
   "metadata": {},
   "outputs": [],
   "source": [
    "merged_data=merged_data[['Duration','Start date','End date','Start station number','Member type']]"
   ]
  },
  {
   "cell_type": "markdown",
   "metadata": {},
   "source": [
    "### <font color=\"red\"> Write the data to csv file</font>"
   ]
  },
  {
   "cell_type": "code",
   "execution_count": 12,
   "metadata": {},
   "outputs": [],
   "source": [
    "merged_data.to_csv('data/bike_sharing_data/merged_data.csv',index=False)"
   ]
  },
  {
   "cell_type": "code",
   "execution_count": null,
   "metadata": {},
   "outputs": [],
   "source": []
  }
 ],
 "metadata": {
  "kernelspec": {
   "display_name": "Python 3",
   "language": "python",
   "name": "python3"
  },
  "language_info": {
   "codemirror_mode": {
    "name": "ipython",
    "version": 3
   },
   "file_extension": ".py",
   "mimetype": "text/x-python",
   "name": "python",
   "nbconvert_exporter": "python",
   "pygments_lexer": "ipython3",
   "version": "3.6.9"
  }
 },
 "nbformat": 4,
 "nbformat_minor": 4
}
